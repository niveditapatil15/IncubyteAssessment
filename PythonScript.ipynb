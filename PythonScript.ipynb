{
 "cells": [
  {
   "cell_type": "code",
   "execution_count": 1,
   "id": "present-norman",
   "metadata": {},
   "outputs": [],
   "source": [
    "import mysql.connector\n",
    "import pypyodbc as odbc;\n",
    "import pandas as pd;\n"
   ]
  },
  {
   "cell_type": "code",
   "execution_count": 2,
   "id": "seven-tampa",
   "metadata": {},
   "outputs": [],
   "source": [
    "db = mysql.connector.connect(host=\"localhost\",user=\"mysql\",password=\"mysql\",database=\"Hospital\")"
   ]
  },
  {
   "cell_type": "code",
   "execution_count": 3,
   "id": "clear-worst",
   "metadata": {},
   "outputs": [],
   "source": [
    "mycursor = db.cursor()"
   ]
  },
  {
   "cell_type": "code",
   "execution_count": 4,
   "id": "revised-bradford",
   "metadata": {
    "scrolled": true
   },
   "outputs": [
    {
     "data": {
      "text/html": [
       "<div>\n",
       "<style scoped>\n",
       "    .dataframe tbody tr th:only-of-type {\n",
       "        vertical-align: middle;\n",
       "    }\n",
       "\n",
       "    .dataframe tbody tr th {\n",
       "        vertical-align: top;\n",
       "    }\n",
       "\n",
       "    .dataframe thead th {\n",
       "        text-align: right;\n",
       "    }\n",
       "</style>\n",
       "<table border=\"1\" class=\"dataframe\">\n",
       "  <thead>\n",
       "    <tr style=\"text-align: right;\">\n",
       "      <th></th>\n",
       "      <th>Customer_Name</th>\n",
       "      <th>Customer_Id</th>\n",
       "      <th>Open_dt</th>\n",
       "      <th>Consul_dt</th>\n",
       "      <th>Vaccination_Id</th>\n",
       "      <th>Dr_Name</th>\n",
       "      <th>State</th>\n",
       "      <th>Country</th>\n",
       "      <th>DOB</th>\n",
       "      <th>Is_Active</th>\n",
       "    </tr>\n",
       "  </thead>\n",
       "  <tbody>\n",
       "    <tr>\n",
       "      <th>0</th>\n",
       "      <td>Alex</td>\n",
       "      <td>123457</td>\n",
       "      <td>2010-10-12</td>\n",
       "      <td>2012-10-13</td>\n",
       "      <td>MVD</td>\n",
       "      <td>Paul</td>\n",
       "      <td>SA</td>\n",
       "      <td>USA</td>\n",
       "      <td>1987-03-06</td>\n",
       "      <td>A</td>\n",
       "    </tr>\n",
       "    <tr>\n",
       "      <th>1</th>\n",
       "      <td>John</td>\n",
       "      <td>123458</td>\n",
       "      <td>2010-10-12</td>\n",
       "      <td>2012-10-13</td>\n",
       "      <td>MVD</td>\n",
       "      <td>Paul</td>\n",
       "      <td>TN</td>\n",
       "      <td>IND</td>\n",
       "      <td>1987-03-06</td>\n",
       "      <td>A</td>\n",
       "    </tr>\n",
       "    <tr>\n",
       "      <th>2</th>\n",
       "      <td>Mathew</td>\n",
       "      <td>123459</td>\n",
       "      <td>2010-10-12</td>\n",
       "      <td>2012-10-13</td>\n",
       "      <td>MVD</td>\n",
       "      <td>Paul</td>\n",
       "      <td>WAS</td>\n",
       "      <td>PHIL</td>\n",
       "      <td>1987-03-06</td>\n",
       "      <td>A</td>\n",
       "    </tr>\n",
       "    <tr>\n",
       "      <th>3</th>\n",
       "      <td>Matt</td>\n",
       "      <td>12345</td>\n",
       "      <td>2010-10-12</td>\n",
       "      <td>2012-10-13</td>\n",
       "      <td>MVD</td>\n",
       "      <td>Paul</td>\n",
       "      <td>BOS</td>\n",
       "      <td>NYC</td>\n",
       "      <td>1987-03-06</td>\n",
       "      <td>A</td>\n",
       "    </tr>\n",
       "    <tr>\n",
       "      <th>4</th>\n",
       "      <td>Jacob</td>\n",
       "      <td>1256</td>\n",
       "      <td>2010-10-12</td>\n",
       "      <td>2012-10-13</td>\n",
       "      <td>MVD</td>\n",
       "      <td>Paul</td>\n",
       "      <td>VIC</td>\n",
       "      <td>AU</td>\n",
       "      <td>1987-03-06</td>\n",
       "      <td>A</td>\n",
       "    </tr>\n",
       "    <tr>\n",
       "      <th>5</th>\n",
       "      <td>alex</td>\n",
       "      <td>123457</td>\n",
       "      <td>2010-10-12</td>\n",
       "      <td>2012-10-13</td>\n",
       "      <td>MVD</td>\n",
       "      <td>Paul</td>\n",
       "      <td>SA</td>\n",
       "      <td>USA</td>\n",
       "      <td>1987-03-06</td>\n",
       "      <td>A</td>\n",
       "    </tr>\n",
       "    <tr>\n",
       "      <th>6</th>\n",
       "      <td>marry</td>\n",
       "      <td>12347</td>\n",
       "      <td>2010-10-12</td>\n",
       "      <td>2012-10-13</td>\n",
       "      <td>MVD</td>\n",
       "      <td>Paul</td>\n",
       "      <td>SA</td>\n",
       "      <td>USA</td>\n",
       "      <td>1987-03-06</td>\n",
       "      <td>A</td>\n",
       "    </tr>\n",
       "  </tbody>\n",
       "</table>\n",
       "</div>"
      ],
      "text/plain": [
       "  Customer_Name  Customer_Id     Open_dt   Consul_dt Vaccination_Id Dr_Name  \\\n",
       "0          Alex       123457  2010-10-12  2012-10-13            MVD    Paul   \n",
       "1          John       123458  2010-10-12  2012-10-13            MVD    Paul   \n",
       "2        Mathew       123459  2010-10-12  2012-10-13            MVD    Paul   \n",
       "3          Matt        12345  2010-10-12  2012-10-13            MVD    Paul   \n",
       "4         Jacob         1256  2010-10-12  2012-10-13            MVD    Paul   \n",
       "5          alex       123457  2010-10-12  2012-10-13            MVD    Paul   \n",
       "6         marry        12347  2010-10-12  2012-10-13            MVD    Paul   \n",
       "\n",
       "  State Country         DOB Is_Active  \n",
       "0    SA     USA  1987-03-06         A  \n",
       "1    TN     IND  1987-03-06         A  \n",
       "2   WAS    PHIL  1987-03-06         A  \n",
       "3   BOS     NYC  1987-03-06         A  \n",
       "4   VIC      AU  1987-03-06         A  \n",
       "5    SA     USA  1987-03-06         A  \n",
       "6    SA     USA  1987-03-06         A  "
      ]
     },
     "execution_count": 4,
     "metadata": {},
     "output_type": "execute_result"
    }
   ],
   "source": [
    "data = pd.read_csv(\"hospital.csv\");\n",
    "data\n",
    "#df = pd.DataFrame(data, columns= ('Name','Cust_Id','Open_dt','Consul_dt','VACC_ID','Dr_Name','State','Country','DOB','FLAG'))\n",
    "#type(df.Name)"
   ]
  },
  {
   "cell_type": "code",
   "execution_count": null,
   "id": "heated-plant",
   "metadata": {},
   "outputs": [],
   "source": [
    "sql =\"INSERT INTO origin(Cust_name,Cust_I,Open_Dt,Consul_dt,VAC_ID,DR_Name,State,Country,DOB,FLAG) VALUES(%s,%s,%s,%s,%s,%s,%s,%s,%s,%s)\"\n",
    " \n",
    "for i, row in data.iterrows():\n",
    "    col = (row.Customer_Name,str(row.Customer_Id),row.Open_dt,row.Consul_dt,row.Vaccination_Id,row.Dr_Name,row.State,row.Country,row.DOB,row.Is_Active)\n",
    "    \n",
    "   # print(col)\n",
    "    mycursor.execute(sql,col)\n",
    "   \n",
    "    db.commit()\n",
    "#mycursor.close()"
   ]
  },
  {
   "cell_type": "markdown",
   "id": "median-stewart",
   "metadata": {},
   "source": [
    "# #Copy original table into staging area"
   ]
  },
  {
   "cell_type": "code",
   "execution_count": null,
   "id": "expressed-campaign",
   "metadata": {},
   "outputs": [],
   "source": [
    "#mycursor.execute(\"create table MasterStage(Cust_name varchar(255) NOT NULL Primary key,Cust_I varchar(18) NOT NULL,Open_Dt DATE NOT NULL,Consul_Dt DATE,VAC_ID char(5),DR_Name char(255),State char(5),Country char(5),DOB DATE,FLAG char(1));\")\n",
    "#mycursor.execute(\"SELECT * INTO MasterStage FROM origin\")\n",
    "mycursor.execute(\"CREATE TABLE MasterStage AS SELECT * FROM origin\")\n",
    "db.commit()"
   ]
  },
  {
   "cell_type": "code",
   "execution_count": 6,
   "id": "scientific-boulder",
   "metadata": {},
   "outputs": [],
   "source": [
    "#drop all tables except master and origin\n",
    "mycursor.execute(\"drop table au,ind,nyc,phil,usa;\")"
   ]
  },
  {
   "cell_type": "code",
   "execution_count": 7,
   "id": "appreciated-reference",
   "metadata": {},
   "outputs": [
    {
     "name": "stdout",
     "output_type": "stream",
     "text": [
      "[('masterstage',), ('origin',)]\n",
      "['masterstage', 'origin']\n"
     ]
    }
   ],
   "source": [
    "mycursor.execute(\"show tables;\")\n",
    "tab=[]\n",
    "#type(tables)\n",
    "#mycursor.execute(\"SELECT * FROM Hospital.tables;\")\n",
    "tableslist = mycursor.fetchall()\n",
    "for table in tableslist :\n",
    "    tab.append(table)\n",
    "    \n",
    "print(tab)\n",
    "tables = [''.join(i) for i in tab]\n",
    "print(tables)"
   ]
  },
  {
   "cell_type": "markdown",
   "id": "dress-origin",
   "metadata": {},
   "source": [
    "## Splitting Records into Different tables "
   ]
  },
  {
   "cell_type": "code",
   "execution_count": 8,
   "id": "center-profile",
   "metadata": {},
   "outputs": [
    {
     "name": "stdout",
     "output_type": "stream",
     "text": [
      "Duplicate entry with primary key\n"
     ]
    }
   ],
   "source": [
    "for i, row in data.iterrows():\n",
    "  \n",
    "    cnt = row.Country\n",
    "    col = (row.Customer_Name,str(row.Customer_Id),row.Open_dt,row.Consul_dt,row.Vaccination_Id,row.Dr_Name,row.State,row.Country,row.DOB,row.Is_Active)\n",
    "    \n",
    "    try :\n",
    "        if cnt in tables :\n",
    "            \n",
    "            mycursor.execute(\"INSERT INTO \"+cnt +\"(Cust_name,Cust_I,Open_Dt,Consul_dt,VAC_ID,DR_Name,State,Country,DOB,FLAG) VALUES(%s,%s,%s,%s,%s,%s,%s,%s,%s,%s)\" ,col)\n",
    "            \n",
    "        else :\n",
    "        \n",
    "            mycursor.execute(\"CREATE TABLE \"+ cnt +\" (Cust_name varchar(255) NOT NULL Primary key,Cust_I varchar(18) NOT NULL,Open_Dt DATE NOT NULL,Consul_Dt DATE,VAC_ID char(5),DR_Name char(255),State char(5),Country char(5),DOB DATE,FLAG char(1));\")\n",
    "            mycursor.execute(\"INSERT INTO \"+cnt +\"(Cust_name,Cust_I,Open_Dt,Consul_dt,VAC_ID,DR_Name,State,Country,DOB,FLAG) VALUES(%s,%s,%s,%s,%s,%s,%s,%s,%s,%s)\" ,col)\n",
    "            tables.append(cnt)\n",
    "    except:\n",
    "        \n",
    "        print(\"Duplicate entry with primary key\")\n",
    "\n",
    "    \n",
    "\n",
    "db.commit()\n",
    "db.close()"
   ]
  },
  {
   "cell_type": "code",
   "execution_count": null,
   "id": "straight-tract",
   "metadata": {},
   "outputs": [],
   "source": []
  },
  {
   "cell_type": "code",
   "execution_count": null,
   "id": "minute-browse",
   "metadata": {},
   "outputs": [],
   "source": []
  }
 ],
 "metadata": {
  "kernelspec": {
   "display_name": "Python 3",
   "language": "python",
   "name": "python3"
  },
  "language_info": {
   "codemirror_mode": {
    "name": "ipython",
    "version": 3
   },
   "file_extension": ".py",
   "mimetype": "text/x-python",
   "name": "python",
   "nbconvert_exporter": "python",
   "pygments_lexer": "ipython3",
   "version": "3.9.2"
  }
 },
 "nbformat": 4,
 "nbformat_minor": 5
}
